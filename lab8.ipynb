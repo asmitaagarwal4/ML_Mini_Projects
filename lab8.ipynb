{
 "cells": [
  {
   "cell_type": "code",
   "execution_count": 1,
   "metadata": {},
   "outputs": [],
   "source": [
    "import pandas as pd\n",
    "from mlxtend.frequent_patterns import apriori, association_rules\n",
    "import csv"
   ]
  },
  {
   "cell_type": "code",
   "execution_count": 2,
   "metadata": {},
   "outputs": [
    {
     "name": "stdout",
     "output_type": "stream",
     "text": [
      "   SKU001  SKU002  SKU003  SKU004  SKU005  SKU006  SKU007  SKU008  SKU009  \\\n",
      "0       0       1       0       0       0       0       1       1       0   \n",
      "1       0       0       1       0       0       1       0       0       1   \n",
      "2       0       1       0       0       0       0       0       0       0   \n",
      "3       1       0       0       0       1       0       0       0       0   \n",
      "4       0       0       0       0       0       1       1       0       1   \n",
      "\n",
      "   SKU010  \n",
      "0       1  \n",
      "1       0  \n",
      "2       1  \n",
      "3       1  \n",
      "4       1  \n"
     ]
    },
    {
     "name": "stderr",
     "output_type": "stream",
     "text": [
      "C:\\Users\\asmit\\AppData\\Local\\Temp\\ipykernel_8520\\3956688231.py:3: FutureWarning: DataFrame.applymap has been deprecated. Use DataFrame.map instead.\n",
      "  df = df.applymap(lambda x: 1 if x else 0)\n"
     ]
    }
   ],
   "source": [
    "# Convert to DataFrame\n",
    "df = pd.read_csv('apriori_sample_dataset.csv')\n",
    "df = df.applymap(lambda x: 1 if x else 0)\n",
    "print(df.head())"
   ]
  },
  {
   "cell_type": "code",
   "execution_count": 3,
   "metadata": {},
   "outputs": [
    {
     "name": "stdout",
     "output_type": "stream",
     "text": [
      "Frequent Itemsets:\n",
      "    support          itemsets\n",
      "0      0.28          (SKU001)\n",
      "1      0.26          (SKU002)\n",
      "2      0.22          (SKU003)\n",
      "3      0.32          (SKU004)\n",
      "4      0.32          (SKU005)\n",
      "5      0.26          (SKU006)\n",
      "6      0.30          (SKU007)\n",
      "7      0.34          (SKU008)\n",
      "8      0.26          (SKU009)\n",
      "9      0.34          (SKU010)\n",
      "10     0.10  (SKU002, SKU001)\n",
      "11     0.10  (SKU001, SKU003)\n",
      "12     0.10  (SKU001, SKU005)\n",
      "13     0.14  (SKU001, SKU008)\n",
      "14     0.10  (SKU001, SKU009)\n",
      "15     0.10  (SKU002, SKU005)\n",
      "16     0.10  (SKU002, SKU009)\n",
      "17     0.10  (SKU002, SKU010)\n",
      "18     0.12  (SKU005, SKU004)\n",
      "19     0.10  (SKU008, SKU004)\n",
      "20     0.10  (SKU010, SKU004)\n",
      "21     0.10  (SKU009, SKU005)\n",
      "22     0.12  (SKU010, SKU005)\n",
      "23     0.10  (SKU008, SKU006)\n",
      "24     0.14  (SKU007, SKU008)\n",
      "25     0.12  (SKU010, SKU007)\n",
      "26     0.12  (SKU010, SKU008)\n",
      "27     0.12  (SKU010, SKU009)\n",
      "\n",
      "Association Rules:\n",
      "  antecedents consequents  antecedent support  consequent support  support  \\\n",
      "0    (SKU001)    (SKU008)                0.28                0.34     0.14   \n",
      "\n",
      "   confidence      lift  representativity  leverage  conviction  \\\n",
      "0         0.5  1.470588               1.0    0.0448        1.32   \n",
      "\n",
      "   zhangs_metric   jaccard  certainty  kulczynski  \n",
      "0       0.444444  0.291667   0.242424    0.455882  \n"
     ]
    },
    {
     "name": "stderr",
     "output_type": "stream",
     "text": [
      "c:\\Users\\asmit\\anaconda3\\Lib\\site-packages\\mlxtend\\frequent_patterns\\fpcommon.py:161: DeprecationWarning: DataFrames with non-bool types result in worse computationalperformance and their support might be discontinued in the future.Please use a DataFrame with bool type\n",
      "  warnings.warn(\n"
     ]
    }
   ],
   "source": [
    "\n",
    "# Apply Apriori algorithm\n",
    "# Set the minimum support (min_support) as needed (e.g., 0.5 for 50% support)\n",
    "frequent_itemsets = apriori(df, min_support=0.1, use_colnames=True)\n",
    "\n",
    "# Print frequent item sets\n",
    "print(\"Frequent Itemsets:\")\n",
    "print(frequent_itemsets)\n",
    "\n",
    "# Apply association rules to generate the rules\n",
    "# Set the minimum confidence (min_threshold) as needed (e.g., 0.7 for 70% confidence)\n",
    "rules = association_rules(frequent_itemsets, num_itemsets=len(frequent_itemsets), metric=\"confidence\", min_threshold=0.5)\n",
    "\n",
    "# Print association rules\n",
    "print(\"\\nAssociation Rules:\")\n",
    "print(rules)\n"
   ]
  }
 ],
 "metadata": {
  "kernelspec": {
   "display_name": "base",
   "language": "python",
   "name": "python3"
  },
  "language_info": {
   "codemirror_mode": {
    "name": "ipython",
    "version": 3
   },
   "file_extension": ".py",
   "mimetype": "text/x-python",
   "name": "python",
   "nbconvert_exporter": "python",
   "pygments_lexer": "ipython3",
   "version": "3.12.3"
  }
 },
 "nbformat": 4,
 "nbformat_minor": 2
}
