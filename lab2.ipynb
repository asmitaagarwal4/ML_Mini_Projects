{
 "cells": [
  {
   "cell_type": "markdown",
   "metadata": {},
   "source": [
    "## Performing statistical operations"
   ]
  },
  {
   "cell_type": "code",
   "execution_count": 2,
   "metadata": {},
   "outputs": [],
   "source": [
    "import statistics"
   ]
  },
  {
   "cell_type": "markdown",
   "metadata": {},
   "source": [
    "Calculating mean, meadian mode, stdev and variance from a python list"
   ]
  },
  {
   "cell_type": "code",
   "execution_count": 5,
   "metadata": {},
   "outputs": [
    {
     "name": "stdout",
     "output_type": "stream",
     "text": [
      "Mean: 34.714285714285715\n",
      "Median: 30\n",
      "Mode: 10\n",
      "Harmonic Mean: 24.2971210538867\n",
      "Standard Deviation: 20.08078920854694\n",
      "Variance: 403.23809523809524\n"
     ]
    }
   ],
   "source": [
    "data = [10, 20, 30, 50, 45, 67, 21]\n",
    "\n",
    "def print_stats(data):\n",
    "    mean_value = statistics.mean(data)\n",
    "    print(\"Mean:\", mean_value)\n",
    "\n",
    "    median_value = statistics.median(data)\n",
    "    print(\"Median:\", median_value)\n",
    "\n",
    "    mode_value = statistics.mode(data)\n",
    "    print(\"Mode:\", mode_value)\n",
    "\n",
    "    harmonic_mean_value = statistics.harmonic_mean(data)\n",
    "    print(\"Harmonic Mean:\", harmonic_mean_value)\n",
    "\n",
    "    stdev_value = statistics.stdev(data)\n",
    "    print(\"Standard Deviation:\", stdev_value)\n",
    "\n",
    "    variance_value = statistics.variance(data,xbar=mean_value)\n",
    "    print(\"Variance:\", variance_value)\n",
    "\n",
    "print_stats(data)"
   ]
  },
  {
   "cell_type": "markdown",
   "metadata": {},
   "source": [
    "We use xbar here to provide pre calulated mean so that computation cost of recalculating the mean is saved."
   ]
  },
  {
   "cell_type": "markdown",
   "metadata": {},
   "source": [
    "Q1. What is the Mean, Median, Variance and Mode of the data-\n",
    "22, 7, 22, 1, 7, 18, 18, 16, 6, 6, 7"
   ]
  },
  {
   "cell_type": "code",
   "execution_count": 6,
   "metadata": {},
   "outputs": [
    {
     "name": "stdout",
     "output_type": "stream",
     "text": [
      "Mean: 11.818181818181818\n",
      "Median: 7\n",
      "Mode: 7\n",
      "Harmonic Mean: 5.428278962125596\n",
      "Standard Deviation: 7.454101982374293\n",
      "Variance: 55.56363636363636\n"
     ]
    }
   ],
   "source": [
    "print_stats([22, 7, 22, 1, 7, 18, 18, 16, 6, 6, 7])"
   ]
  },
  {
   "cell_type": "markdown",
   "metadata": {},
   "source": [
    "Q2. Katie earned 84,92,84,75 and 70 on her first 5 tests. What is the minimum grade Katie needs to earn on the next test to have a mean of 84?"
   ]
  },
  {
   "cell_type": "code",
   "execution_count": 7,
   "metadata": {},
   "outputs": [
    {
     "name": "stdout",
     "output_type": "stream",
     "text": [
      "Katie needs to score at least: 99\n",
      "Mean with the next score: 84\n"
     ]
    }
   ],
   "source": [
    "scores = [84, 92, 84, 75, 70]\n",
    "desired_mean = 84\n",
    "total_tests = 6\n",
    "\n",
    "required_sum = desired_mean * total_tests\n",
    "current_sum = sum(scores)\n",
    "next_score = required_sum - current_sum\n",
    "\n",
    "print(\"Katie needs to score at least:\", next_score)\n",
    "\n",
    "scores.append(next_score)\n",
    "calculated_mean = statistics.mean(scores)\n",
    "print(\"Mean with the next score:\", calculated_mean)\n"
   ]
  }
 ],
 "metadata": {
  "kernelspec": {
   "display_name": "base",
   "language": "python",
   "name": "python3"
  },
  "language_info": {
   "codemirror_mode": {
    "name": "ipython",
    "version": 3
   },
   "file_extension": ".py",
   "mimetype": "text/x-python",
   "name": "python",
   "nbconvert_exporter": "python",
   "pygments_lexer": "ipython3",
   "version": "3.12.3"
  }
 },
 "nbformat": 4,
 "nbformat_minor": 2
}
