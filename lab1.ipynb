{
 "cells": [
  {
   "cell_type": "code",
   "execution_count": 1,
   "metadata": {},
   "outputs": [
    {
     "name": "stdout",
     "output_type": "stream",
     "text": [
      "[2.786, 4.678, 5.456, 6.784, 7.349]\n",
      "Sum:  27.053\n",
      "Max:  7.349\n",
      "Min:  2.786\n",
      "Len:  5\n",
      "Avg:  5.4106000000000005\n",
      "Sqrt:  [1.67, 2.16, 2.34, 2.6, 2.71]\n",
      "Rounded to 0:  [3, 5, 5, 7, 7]\n",
      "Rounded to 2:  [2.79, 4.68, 5.46, 6.78, 7.35]\n"
     ]
    }
   ],
   "source": [
    "import math\n",
    "\n",
    "nums = [2.786,4.678,5.456,6.784,7.349]\n",
    "print(nums)\n",
    "total = sum(nums)\n",
    "max_num = max(nums)\n",
    "minimum = min(nums)\n",
    "length = len(nums)\n",
    "avg = total / length\n",
    "sqrt_list = [round(math.sqrt(num), 2) for num in nums]\n",
    "rounded_list0 = [round(num) for num in nums]\n",
    "rounded_list2 = [round(num,2) for num in nums]\n",
    "print(\"Sum: \", total)\n",
    "print(\"Max: \", max_num)\n",
    "print(\"Min: \", minimum)\n",
    "print(\"Len: \", length)\n",
    "print(\"Avg: \", avg)\n",
    "print(\"Sqrt: \", sqrt_list)\n",
    "print(\"Rounded to 0: \", rounded_list0)\n",
    "print(\"Rounded to 2: \", rounded_list2)"
   ]
  },
  {
   "cell_type": "markdown",
   "metadata": {},
   "source": [
    "Implementing Matrix addition, subtraction, multiplication, inverse, transpose and\n",
    "division operations using vectors using numpy"
   ]
  },
  {
   "cell_type": "code",
   "execution_count": 1,
   "metadata": {},
   "outputs": [
    {
     "name": "stdout",
     "output_type": "stream",
     "text": [
      "[[0. 0. 0. 0.]\n",
      " [0. 0. 0. 0.]\n",
      " [0. 0. 0. 0.]]\n"
     ]
    }
   ],
   "source": [
    "import numpy as np\n",
    "\n",
    "array = np.zeros((3, 4))\n",
    "print(array)"
   ]
  },
  {
   "cell_type": "code",
   "execution_count": 5,
   "metadata": {},
   "outputs": [
    {
     "name": "stdout",
     "output_type": "stream",
     "text": [
      "Matrix A:\n",
      " [[1 2]\n",
      " [3 4]]\n",
      "Matrix B:\n",
      " [[5 6]\n",
      " [7 8]]\n",
      "NumPy Operations:\n",
      "Addition:\n",
      " [[ 6  8]\n",
      " [10 12]]\n",
      "Subtraction:\n",
      " [[-4 -4]\n",
      " [-4 -4]]\n",
      "Multiplication:\n",
      " [[19 22]\n",
      " [43 50]]\n",
      "Transpose:\n",
      " [[1 3]\n",
      " [2 4]]\n",
      "Inverse of A:\n",
      " [[-2.   1. ]\n",
      " [ 1.5 -0.5]]\n",
      "Division:\n",
      " [[0.2        0.33333333]\n",
      " [0.42857143 0.5       ]]\n"
     ]
    }
   ],
   "source": [
    "\n",
    "\n",
    "A = np.array([[1, 2], [3, 4]])\n",
    "B = np.array([[5, 6], [7, 8]])\n",
    "\n",
    "addition = A + B\n",
    "subtraction = A - B\n",
    "multiplication = np.dot(A, B)\n",
    "transpose = np.transpose(A)\n",
    "inverse = np.linalg.inv(A) if np.linalg.det(A) != 0 else \"Not invertible\"\n",
    "division = np.divide(A, B)\n",
    "\n",
    "print(\"Matrix A:\\n\", A)\n",
    "print(\"Matrix B:\\n\", B)\n",
    "print(\"NumPy Operations:\")\n",
    "print(\"Addition:\\n\", addition)\n",
    "print(\"Subtraction:\\n\", subtraction)\n",
    "print(\"Multiplication:\\n\", multiplication)\n",
    "print(\"Transpose:\\n\", transpose)\n",
    "print(\"Inverse of A:\\n\", inverse)\n",
    "print(\"Division:\\n\", division)"
   ]
  }
 ],
 "metadata": {
  "kernelspec": {
   "display_name": "base",
   "language": "python",
   "name": "python3"
  },
  "language_info": {
   "codemirror_mode": {
    "name": "ipython",
    "version": 3
   },
   "file_extension": ".py",
   "mimetype": "text/x-python",
   "name": "python",
   "nbconvert_exporter": "python",
   "pygments_lexer": "ipython3",
   "version": "3.12.3"
  }
 },
 "nbformat": 4,
 "nbformat_minor": 2
}
