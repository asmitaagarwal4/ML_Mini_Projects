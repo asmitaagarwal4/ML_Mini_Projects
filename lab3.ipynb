{
 "cells": [
  {
   "cell_type": "code",
   "execution_count": 3,
   "metadata": {},
   "outputs": [],
   "source": [
    "import pandas as pd"
   ]
  },
  {
   "cell_type": "markdown",
   "metadata": {},
   "source": [
    "#### Creating a dataframe from a list"
   ]
  },
  {
   "cell_type": "code",
   "execution_count": 3,
   "metadata": {},
   "outputs": [
    {
     "name": "stdout",
     "output_type": "stream",
     "text": [
      "   0\n",
      "0  1\n",
      "1  2\n",
      "2  3\n",
      "3  4\n",
      "4  5\n"
     ]
    }
   ],
   "source": [
    "data = [1,2,3,4,5]  \n",
    "df = pd.DataFrame(data) \n",
    "print(df)"
   ]
  },
  {
   "cell_type": "code",
   "execution_count": 4,
   "metadata": {},
   "outputs": [
    {
     "name": "stdout",
     "output_type": "stream",
     "text": [
      "     Name  Age\n",
      "0    Alex   10\n",
      "1     Bob   12\n",
      "2  Clarke   13\n"
     ]
    }
   ],
   "source": [
    "data = [['Alex',10],['Bob',12],['Clarke',13]]  \n",
    "df = pd.DataFrame(data,columns=['Name','Age'])  \n",
    "print( df )"
   ]
  },
  {
   "cell_type": "markdown",
   "metadata": {},
   "source": [
    "Creating a dataframe from dictionary"
   ]
  },
  {
   "cell_type": "code",
   "execution_count": 7,
   "metadata": {},
   "outputs": [
    {
     "name": "stdout",
     "output_type": "stream",
     "text": [
      "    Name  Age\n",
      "0    Tom   28\n",
      "1   Jack   34\n",
      "2  Steve   29\n",
      "3  Ricky   34\n"
     ]
    }
   ],
   "source": [
    "data = {'Name':['Tom', 'Jack', 'Steve', 'Ricky'], 'Age':[28,34,29,34]}  \n",
    "df= pd.DataFrame(data)\n",
    "print( df ) "
   ]
  },
  {
   "cell_type": "markdown",
   "metadata": {},
   "source": [
    "Creating a DataFrame by passing a list of dictionaries and the row indices "
   ]
  },
  {
   "cell_type": "code",
   "execution_count": 8,
   "metadata": {},
   "outputs": [
    {
     "name": "stdout",
     "output_type": "stream",
     "text": [
      "        a   b     c\n",
      "first   1   2   NaN\n",
      "second  5  10  20.0\n"
     ]
    }
   ],
   "source": [
    "data = [{'a': 1, 'b': 2}, {'a': 5, 'b': 10, 'c': 20}]  \n",
    "df = pd.DataFrame(data, index=['first', 'second'])  \n",
    "print( df )\n"
   ]
  },
  {
   "cell_type": "markdown",
   "metadata": {},
   "source": [
    "Selecting a column by passing the column name "
   ]
  },
  {
   "cell_type": "code",
   "execution_count": 10,
   "metadata": {},
   "outputs": [
    {
     "name": "stdout",
     "output_type": "stream",
     "text": [
      "first      NaN\n",
      "second    20.0\n",
      "Name: c, dtype: float64\n"
     ]
    }
   ],
   "source": [
    "col_a = df['c']\n",
    "print( col_a )"
   ]
  },
  {
   "cell_type": "code",
   "execution_count": 11,
   "metadata": {},
   "outputs": [
    {
     "name": "stdout",
     "output_type": "stream",
     "text": [
      "        a   b\n",
      "first   1   2\n",
      "second  5  10\n"
     ]
    }
   ],
   "source": [
    "list = df[['a', 'b']] \n",
    "print(list)"
   ]
  },
  {
   "cell_type": "markdown",
   "metadata": {},
   "source": [
    "Adding a row to the dataframe using Series "
   ]
  },
  {
   "cell_type": "code",
   "execution_count": null,
   "metadata": {},
   "outputs": [
    {
     "name": "stdout",
     "output_type": "stream",
     "text": [
      "           a     b     c\n",
      "first    1.0   2.0   NaN\n",
      "second   5.0  10.0  20.0\n",
      "three   10.0  20.0  30.0\n"
     ]
    }
   ],
   "source": [
    "df2= pd.Series([10,20,30],index=['a', 'b', 'c'],name='three')\n",
    "df = pd.concat([df, df2.to_frame().T])\n",
    "print(df)"
   ]
  },
  {
   "cell_type": "markdown",
   "metadata": {},
   "source": [
    "Selecting rows by loc"
   ]
  },
  {
   "cell_type": "code",
   "execution_count": 49,
   "metadata": {},
   "outputs": [
    {
     "name": "stdout",
     "output_type": "stream",
     "text": [
      "a    1.0\n",
      "b    2.0\n",
      "c    NaN\n",
      "Name: first, dtype: float64\n",
      "          a     b     c\n",
      "first   1.0   2.0   NaN\n",
      "three  10.0  20.0  30.0\n",
      "           a     b     c\n",
      "first    1.0   2.0   NaN\n",
      "second   5.0  10.0  20.0\n",
      "three   10.0  20.0  30.0\n"
     ]
    }
   ],
   "source": [
    "first = df.loc['first']\n",
    "rows = df.loc[['first', 'three']]\n",
    "multipleRows = df.loc['first':'three']\n",
    "print(first)\n",
    "print(rows)\n",
    "print(multipleRows)"
   ]
  },
  {
   "cell_type": "markdown",
   "metadata": {},
   "source": [
    "Selecting a row and column from the dataFrame from location "
   ]
  },
  {
   "cell_type": "code",
   "execution_count": 57,
   "metadata": {},
   "outputs": [
    {
     "data": {
      "text/html": [
       "<div>\n",
       "<style scoped>\n",
       "    .dataframe tbody tr th:only-of-type {\n",
       "        vertical-align: middle;\n",
       "    }\n",
       "\n",
       "    .dataframe tbody tr th {\n",
       "        vertical-align: top;\n",
       "    }\n",
       "\n",
       "    .dataframe thead th {\n",
       "        text-align: right;\n",
       "    }\n",
       "</style>\n",
       "<table border=\"1\" class=\"dataframe\">\n",
       "  <thead>\n",
       "    <tr style=\"text-align: right;\">\n",
       "      <th></th>\n",
       "      <th>a</th>\n",
       "      <th>c</th>\n",
       "    </tr>\n",
       "  </thead>\n",
       "  <tbody>\n",
       "    <tr>\n",
       "      <th>first</th>\n",
       "      <td>1.0</td>\n",
       "      <td>NaN</td>\n",
       "    </tr>\n",
       "    <tr>\n",
       "      <th>second</th>\n",
       "      <td>5.0</td>\n",
       "      <td>20.0</td>\n",
       "    </tr>\n",
       "    <tr>\n",
       "      <th>three</th>\n",
       "      <td>10.0</td>\n",
       "      <td>30.0</td>\n",
       "    </tr>\n",
       "  </tbody>\n",
       "</table>\n",
       "</div>"
      ],
      "text/plain": [
       "           a     c\n",
       "first    1.0   NaN\n",
       "second   5.0  20.0\n",
       "three   10.0  30.0"
      ]
     },
     "execution_count": 57,
     "metadata": {},
     "output_type": "execute_result"
    }
   ],
   "source": [
    "df[['a','c']]"
   ]
  },
  {
   "cell_type": "code",
   "execution_count": 54,
   "metadata": {},
   "outputs": [
    {
     "data": {
      "text/html": [
       "<div>\n",
       "<style scoped>\n",
       "    .dataframe tbody tr th:only-of-type {\n",
       "        vertical-align: middle;\n",
       "    }\n",
       "\n",
       "    .dataframe tbody tr th {\n",
       "        vertical-align: top;\n",
       "    }\n",
       "\n",
       "    .dataframe thead th {\n",
       "        text-align: right;\n",
       "    }\n",
       "</style>\n",
       "<table border=\"1\" class=\"dataframe\">\n",
       "  <thead>\n",
       "    <tr style=\"text-align: right;\">\n",
       "      <th></th>\n",
       "      <th>a</th>\n",
       "    </tr>\n",
       "  </thead>\n",
       "  <tbody>\n",
       "    <tr>\n",
       "      <th>first</th>\n",
       "      <td>1.0</td>\n",
       "    </tr>\n",
       "    <tr>\n",
       "      <th>three</th>\n",
       "      <td>10.0</td>\n",
       "    </tr>\n",
       "  </tbody>\n",
       "</table>\n",
       "</div>"
      ],
      "text/plain": [
       "          a\n",
       "first   1.0\n",
       "three  10.0"
      ]
     },
     "execution_count": 54,
     "metadata": {},
     "output_type": "execute_result"
    }
   ],
   "source": [
    "df.loc[['first', 'three'], ['a']]"
   ]
  },
  {
   "cell_type": "markdown",
   "metadata": {},
   "source": [
    "Selecting rows and columns using iloc"
   ]
  },
  {
   "cell_type": "code",
   "execution_count": 59,
   "metadata": {},
   "outputs": [
    {
     "name": "stdout",
     "output_type": "stream",
     "text": [
      "a     5.0\n",
      "b    10.0\n",
      "c    20.0\n",
      "Name: second, dtype: float64\n",
      "          a     b     c\n",
      "three  10.0  20.0  30.0\n",
      "first   1.0   2.0   NaN\n",
      "           a     b     c\n",
      "second   5.0  10.0  20.0\n",
      "three   10.0  20.0  30.0\n",
      "first      1.0\n",
      "second     5.0\n",
      "three     10.0\n",
      "Name: a, dtype: float64\n",
      "           a     c\n",
      "first    1.0   NaN\n",
      "second   5.0  20.0\n",
      "three   10.0  30.0\n",
      "10.0\n"
     ]
    }
   ],
   "source": [
    "print(df.iloc[1])#select single row  \n",
    "print(df.iloc[[2, 0]])# select specific rows\n",
    "print(df.iloc[1:3])# select range of rows\n",
    "print(df.iloc[:, 0])# select single column\n",
    "print(df.iloc[:, [0, 2]])# select multiple columns\n",
    "print(df.iloc[1, 1])# select single value\n"
   ]
  },
  {
   "cell_type": "markdown",
   "metadata": {},
   "source": [
    "### To read data from csv file into pandas dataframes"
   ]
  },
  {
   "cell_type": "code",
   "execution_count": 4,
   "metadata": {},
   "outputs": [
    {
     "data": {
      "text/html": [
       "<div>\n",
       "<style scoped>\n",
       "    .dataframe tbody tr th:only-of-type {\n",
       "        vertical-align: middle;\n",
       "    }\n",
       "\n",
       "    .dataframe tbody tr th {\n",
       "        vertical-align: top;\n",
       "    }\n",
       "\n",
       "    .dataframe thead th {\n",
       "        text-align: right;\n",
       "    }\n",
       "</style>\n",
       "<table border=\"1\" class=\"dataframe\">\n",
       "  <thead>\n",
       "    <tr style=\"text-align: right;\">\n",
       "      <th></th>\n",
       "      <th>name</th>\n",
       "      <th>no</th>\n",
       "      <th>float</th>\n",
       "      <th>random</th>\n",
       "    </tr>\n",
       "  </thead>\n",
       "  <tbody>\n",
       "    <tr>\n",
       "      <th>0</th>\n",
       "      <td>a</td>\n",
       "      <td>1</td>\n",
       "      <td>2.1</td>\n",
       "      <td>ad</td>\n",
       "    </tr>\n",
       "    <tr>\n",
       "      <th>1</th>\n",
       "      <td>b</td>\n",
       "      <td>2</td>\n",
       "      <td>3.2</td>\n",
       "      <td>fd</td>\n",
       "    </tr>\n",
       "    <tr>\n",
       "      <th>2</th>\n",
       "      <td>c</td>\n",
       "      <td>3</td>\n",
       "      <td>4.3</td>\n",
       "      <td>gfr</td>\n",
       "    </tr>\n",
       "    <tr>\n",
       "      <th>3</th>\n",
       "      <td>d</td>\n",
       "      <td>4</td>\n",
       "      <td>5.4</td>\n",
       "      <td>frg</td>\n",
       "    </tr>\n",
       "    <tr>\n",
       "      <th>4</th>\n",
       "      <td>e</td>\n",
       "      <td>5</td>\n",
       "      <td>6.5</td>\n",
       "      <td>fre</td>\n",
       "    </tr>\n",
       "  </tbody>\n",
       "</table>\n",
       "</div>"
      ],
      "text/plain": [
       "  name  no  float random\n",
       "0    a   1    2.1     ad\n",
       "1    b   2    3.2     fd\n",
       "2    c   3    4.3    gfr\n",
       "3    d   4    5.4    frg\n",
       "4    e   5    6.5    fre"
      ]
     },
     "execution_count": 4,
     "metadata": {},
     "output_type": "execute_result"
    }
   ],
   "source": [
    "data = pd.read_csv('test.csv')  \n",
    "df=pd.DataFrame(data) \n",
    "df.head(5)"
   ]
  },
  {
   "cell_type": "markdown",
   "metadata": {},
   "source": [
    "Q1. Create the following data frame using dictionary and implement the operations on it:    "
   ]
  },
  {
   "cell_type": "code",
   "execution_count": 5,
   "metadata": {},
   "outputs": [
    {
     "name": "stdout",
     "output_type": "stream",
     "text": [
      "      Name Region  Sales  Expences\n",
      "0  William  North    100        50\n",
      "1  William  North    200       100\n",
      "2     Emma  South    300       150\n",
      "3     Emma  South    400       200\n",
      "4    Anika   East    500       250\n",
      "5    Anika   west    600       300\n"
     ]
    }
   ],
   "source": [
    "data = {\"Name\":['William','William','Emma','Emma','Anika','Anika'],\n",
    "        'Region':[\"North\",'North','South','South','East','west'],\n",
    "        \"Sales\":[100,200,300,400,500,600],\n",
    "        'Expences':[50,100,150,200,250,300]}\n",
    "df = pd.DataFrame(data)\n",
    "print(df)\n"
   ]
  },
  {
   "cell_type": "code",
   "execution_count": 6,
   "metadata": {},
   "outputs": [
    {
     "name": "stdout",
     "output_type": "stream",
     "text": [
      "  Region  Sales\n",
      "0  North    100\n",
      "1  North    200\n",
      "2  South    300\n",
      "3  South    400\n",
      "4   East    500\n",
      "5   west    600\n"
     ]
    }
   ],
   "source": [
    "# a. Display data of columns ‘region’ and ‘sales’. \n",
    "print(df[['Region','Sales']])"
   ]
  },
  {
   "cell_type": "code",
   "execution_count": 7,
   "metadata": {},
   "outputs": [
    {
     "name": "stdout",
     "output_type": "stream",
     "text": [
      "150\n",
      "150\n"
     ]
    }
   ],
   "source": [
    "# b. Display data of row 2 and column 3 using loc and iloc function both. \n",
    "print(df.iloc[2,3])\n",
    "print(df.loc[2,'Expences'])"
   ]
  },
  {
   "cell_type": "code",
   "execution_count": 8,
   "metadata": {},
   "outputs": [
    {
     "name": "stdout",
     "output_type": "stream",
     "text": [
      "      Name Region  Sales  Expences\n",
      "0  William  North    100        50\n",
      "1  William  North    200       100\n",
      "2     Emma  South    300       150\n",
      "3     Emma  South    400       200\n",
      "4    Anika   East    500       250\n",
      "5    Anika   west    600       300\n",
      "6      ABC  South  80000     40000\n"
     ]
    }
   ],
   "source": [
    "#d. Add one more row having values ‘ABC’,’South’,80000, 40000 in all fields and  display the dataframe\n",
    "df.loc[6] = ['ABC','South',80000,40000]\n",
    "print(df)"
   ]
  },
  {
   "cell_type": "code",
   "execution_count": 9,
   "metadata": {},
   "outputs": [
    {
     "name": "stdout",
     "output_type": "stream",
     "text": [
      "      Name Region  Sales  Expences gender\n",
      "0  William  North    100        50      M\n",
      "1  William  North    200       100      M\n",
      "2     Emma  South    300       150      F\n",
      "3     Emma  South    400       200      F\n",
      "4    Anika   East    500       250      F\n",
      "5    Anika   west    600       300      F\n",
      "6      ABC  South  80000     40000      M\n"
     ]
    }
   ],
   "source": [
    "# d. Add one column ‘gender’ in the above dataframe and display the updated dataframe.  \n",
    "df['gender'] = ['M','M','F','F','F','F','M']\n",
    "print(df)"
   ]
  },
  {
   "cell_type": "code",
   "execution_count": 72,
   "metadata": {},
   "outputs": [
    {
     "name": "stdout",
     "output_type": "stream",
     "text": [
      "     ename Region  Sales  Expences gender\n",
      "0  William  North    100        50      M\n",
      "1  William  North    200       100      M\n",
      "2     Emma  South    300       150      F\n",
      "3     Emma  South    400       200      F\n",
      "4    Anika   East    500       250      F\n",
      "5    Anika   west    600       300      F\n",
      "6      ABC  South  80000     40000      M\n"
     ]
    }
   ],
   "source": [
    "# e. Rename column 1 by ename and display the updated dataframe. \n",
    "df.rename(columns = {'Name':'ename'})\n",
    "print(df)"
   ]
  },
  {
   "cell_type": "code",
   "execution_count": 74,
   "metadata": {},
   "outputs": [
    {
     "name": "stdout",
     "output_type": "stream",
     "text": [
      "        Sales                             Expences                            \n",
      "          sum          mean           std      sum          mean           std\n",
      "gender                                                                        \n",
      "F        1800    450.000000    129.099445      900    225.000000     64.549722\n",
      "M       80300  26766.666667  46101.446109    40150  13383.333333  23050.723054\n"
     ]
    }
   ],
   "source": [
    "# g. Use group by to create new dataframe based on gender and compute group wise sum,  average and standard deviation of columns ‘sales’ and ‘expense’.\n",
    "grouped_df = df.groupby('gender').agg({\n",
    "    'Sales': ['sum', 'mean', 'std'],\n",
    "    'Expences': ['sum', 'mean', 'std']\n",
    "})\n",
    "print(grouped_df)"
   ]
  },
  {
   "cell_type": "code",
   "execution_count": null,
   "metadata": {},
   "outputs": [
    {
     "name": "stdout",
     "output_type": "stream",
     "text": [
      "     ename  Sales  Expences gender\n",
      "0  William    100        50      M\n",
      "1  William    200       100      M\n",
      "2     Emma    300       150      F\n",
      "3     Emma    400       200      F\n",
      "4    Anika    500       250      F\n",
      "5    Anika    600       300      F\n",
      "6      ABC  80000     40000      M\n"
     ]
    }
   ],
   "source": [
    "# h. Drop the column ‘region’ and display the updated dataframe.\n",
    "df = df.drop(columns=['Region'])\n",
    "print(df)"
   ]
  },
  {
   "cell_type": "code",
   "execution_count": null,
   "metadata": {},
   "outputs": [
    {
     "name": "stdout",
     "output_type": "stream",
     "text": [
      "     ename  Sales  Expences gender\n",
      "0  William    100        50      M\n",
      "1  William    200       100      M\n",
      "2     Emma    300       150      F\n",
      "3     Emma    400       200      F\n",
      "4    Anika    500       250      F\n",
      "5    Anika    600       300      F\n"
     ]
    }
   ],
   "source": [
    "# i. Delete the last inserted row and display the updated dataframe. \n",
    "df = df.drop(df.index[-1])\n",
    "print(df)"
   ]
  },
  {
   "cell_type": "code",
   "execution_count": 86,
   "metadata": {},
   "outputs": [
    {
     "name": "stdout",
     "output_type": "stream",
     "text": [
      "     ename  Sales  Expences gender\n",
      "0  William    100        50      M\n",
      "1  William    200       100      M\n",
      "2     Emma    300       150      F\n",
      "3     Emma    400       200      F\n",
      "4    Anika    500       250      F\n",
      "5    Anika    600       300      F\n"
     ]
    }
   ],
   "source": [
    "# Store the dataframe into 'emp.csv'\n",
    "df.to_csv('emp.csv', index=False)\n",
    "new_df = pd.read_csv('emp.csv')\n",
    "print(new_df)"
   ]
  }
 ],
 "metadata": {
  "kernelspec": {
   "display_name": "base",
   "language": "python",
   "name": "python3"
  },
  "language_info": {
   "codemirror_mode": {
    "name": "ipython",
    "version": 3
   },
   "file_extension": ".py",
   "mimetype": "text/x-python",
   "name": "python",
   "nbconvert_exporter": "python",
   "pygments_lexer": "ipython3",
   "version": "3.12.3"
  }
 },
 "nbformat": 4,
 "nbformat_minor": 2
}
